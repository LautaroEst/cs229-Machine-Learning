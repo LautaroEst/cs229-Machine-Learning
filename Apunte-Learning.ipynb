{
 "cells": [
  {
   "cell_type": "markdown",
   "metadata": {},
   "source": [
    "$$\n",
    "\\DeclareMathOperator*{\\argmin}{argmin}\n",
    "\\DeclareMathOperator*{\\argmax}{argmax}\n",
    "\\DeclareMathOperator*{\\min}{min}\n",
    "\\DeclareMathOperator*{\\max}{max}\n",
    "\\newcommand{\\trace}{{\\mathrm{tra}}}\n",
    "\\newcommand{\\R}{\\mathbb{R}}\n",
    "\\newcommand{\\Q}{\\mathbb{Q}}\n",
    "\\newcommand{\\N}{\\mathbb{N}}\n",
    "\\newcommand{\\xtrain}{X_{train}}\n",
    "\\newcommand{\\pygivenx}{P(y|x)}\n",
    "\\newcommand{\\pxgiveny}{P(x|y)}\n",
    "\\newcommand{\\normal}[2]{\\mathcal{N}\\left(#1,#2\\right)}\n",
    "\\newcommand{\\normalmusigma}{\\mathcal{N}\\left(\\mu,\\sigma^2\\right)}\n",
    "\\newenvironment{boxed}\n",
    "    {\\begin{center}\n",
    "    \\begin{tabular}{|p{0.9\\textwidth}|}\n",
    "    \\hline\\\\\n",
    "    }\n",
    "    { \n",
    "    \\\\\\\\\\hline\n",
    "    \\end{tabular} \n",
    "    \\end{center}\n",
    "    }\n",
    "$$\n",
    "\n",
    "\n",
    "# Teoría de Aprendizaje\n",
    "---\n",
    "\n",
    "La idea de los algoritmos de Machine Learning parecería ser que uno tiene un conjunto de datos muy grande y quiere encontrar un modelo a partir de este conjunto. Es decir, más formalmente, dado un conjunto de datos $\\xtrain$, el objetivo es encontrar un modelo, es decir una función $f(\\cdot)$ que mapee el espacio donde viven los datos de entrada y devuelva un valor que pertenece al espacio de los datos de salida (si se los tiene). El objetivo es encontrar esta función de forma tal que tenga todas las carecterísticas de un buen modelo. Estas deberían ser las siguientes:\n",
    "\n",
    "* El modelo ajusta muy bien a los puntos medidos.\n",
    "* El modelo predice nuevos puntos con poco error.\n",
    "* El modelo es lo más simple posible.\n",
    "* El costo computacional que requiere hacer nuevas predicciones es el menor posible.\n",
    "\n",
    "Hay dos formas de encontrar modelos: la probabilística y la determinística. Ambas formas proponen encontrar la función $f(\\cdot)$ (que suele ser muy muy compleja) que representa al modelo y tiene la capacidad de predecir nuevos puntos con poco error. Como ya se dijo, cuanto más simple sea la función, mejor va a ser el modelo. \n",
    "\n",
    "## 1. Aprendizaje supervisado\n",
    "\n",
    "El primer tipo de aprendizaje que vamos a estudiar va a ser el supervizado con enfoque probabilístico. En este caso siempre vamos a tener un conjunto de N muestras con sus respectivas etiquetas $\\xtrain = \\{ (x_1,y_1), \\ldots, (x_N,y_N) \\}$ y vamos a querer encontrar un buen modelo a partir de este conjunto.\n",
    "\n",
    "### 1.1 Modelos discriminativos\n",
    "\n",
    "Supongamos que tenemos los datos de la posición de un auto que se mueve a velocidad constante por una ruta y el tiempo en que se realizó esa medición. Ahora supongamos que queremos predecir nuevas posiciones en otros instantes de tiempo, utilizando las mediciones que ya tenemos. Para eso vamos a buscar una función $f(x) = w_0 + w_1 x$ con los siguientes criterios:\n",
    "\n",
    "* Se sabe que las muestras $\\xtrain = \\{ (x_1,y_1), \\ldots, (x_N,y_N) \\}$ representan el tiempo y la posición de la medición en los vectores $x_1, \\ldots, x_N$ y $y_1, \\ldots, y_N$ respectivamente. Se asume que estas muestras son realizaciones de un vector aleatorio $(\\mathbf{x},\\mathbf{y})$, de distribución $P(x,y) = \\pygivenx P(y)$.\n",
    "\n",
    "* Se asume que la \n",
    "\n",
    "\n",
    "\n",
    "\n",
    "En el curso de Andrew Ng (cs229n) empieza explicando los modelos discrimiativos de aprendizaje supervisado. En estos modelos, la idea es pensar al conjunto de datos $\\xtrain$ como si hubiese sido generado por un vector aleatorio $(\\mathbf{x},\\mathbf{y})$, de manera que lo que tengo en realidad en $\\xtrain$ son realizaciones de ese vector.  Proponer un **modelo discriminativo** significa, entonces, proponer una forma de las distribuciones de probabilidad $\\pygivenx$ y $P(y)$ para estimar la distribución $P(x,y)$ con algún método a partir del conjunto de muestras $\\xtrain$. \n",
    "\n",
    "**Ejemplo 1. Regresión lineal.** Un ejemplo muy común (porque es muy fácil y da relativamente buenos resultados) es el de regresión lineal. En este caso, uno propone hacer un modelo lineal, es decir, supone que las muestras fueron generadas por una combinación lineal de la "
   ]
  },
  {
   "cell_type": "markdown",
   "metadata": {},
   "source": []
  }
 ],
 "metadata": {
  "kernelspec": {
   "display_name": "Python 3",
   "language": "python",
   "name": "python3"
  },
  "language_info": {
   "codemirror_mode": {
    "name": "ipython",
    "version": 3
   },
   "file_extension": ".py",
   "mimetype": "text/x-python",
   "name": "python",
   "nbconvert_exporter": "python",
   "pygments_lexer": "ipython3",
   "version": "3.7.3"
  }
 },
 "nbformat": 4,
 "nbformat_minor": 2
}
