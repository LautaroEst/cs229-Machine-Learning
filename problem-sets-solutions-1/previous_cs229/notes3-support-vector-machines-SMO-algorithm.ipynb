{
 "cells": [
  {
   "cell_type": "markdown",
   "metadata": {},
   "source": [
    "http://cs229.stanford.edu/notes/cs229-notes3.pdf"
   ]
  },
  {
   "cell_type": "markdown",
   "metadata": {},
   "source": [
    "# Understanding"
   ]
  },
  {
   "cell_type": "markdown",
   "metadata": {},
   "source": [
    "### Functional margin ($\\hat \\gamma$) and geometric margin ($\\gamma$)"
   ]
  },
  {
   "cell_type": "markdown",
   "metadata": {},
   "source": [
    "Definition for the functional margin of data point $x^{(i)}$:\n",
    "\n",
    "$$\\hat \\gamma^{(i)} = y^{(i)}(w^T x^{(i)} + b)$$\n",
    "\n",
    "Given $y^{(i)}$ is $\\pm 1$ for the positive and negative examples, $\\hat \\gamma^{(i)}$ is actually equivalent to\n",
    "\n",
    "$$| w^T x^{(i)} + b |$$\n",
    "\n",
    "which is a scaled distance of $x$ to the line (verified by geometry)\n",
    "\n",
    "$$w^T x^{(i)} + b = 0 $$ \n",
    "\n",
    "and the scaler is $\\left\\|w\\right\\|$. \n",
    "\n",
    "If we let $x_0$ be the vector that is perpendicular (hence $x_0$ is more specific to the $B$ shown in the lecture note) to the line, and also exactly on the line. Then $b$ can be written as \n",
    "\n",
    "$$b=-\\left\\|w\\right\\| \\left\\|x_0 \\right\\|$$\n",
    "\n",
    "$\\hat \\gamma$ can also be written in terms of $x_0$. To sum up:\n",
    "\n",
    "\\begin{align*}\n",
    "\\hat \\gamma^{(i)} &= y^{(i)}(w^T x^{(i)} + b)\\\\\n",
    "            &= |w^T x^{(i)} + b| \\\\\n",
    "            &= y^{(i)}w^T(x^{(i)} - x_0)\n",
    "\\end{align*}\n",
    "\n",
    "Note when $\\left\\|w\\right\\| = 1$. $\\hat \\gamma$ becomes the unscaled distance, i.e. the **geometric margin** ($\\gamma$, no hat).\n",
    "\n",
    "\n",
    "In the context of a **training set** with multiple data points ($x^{(1)}$, $x^{(2)}$, $\\cdots$, $x^{(m)}$), we define the functional margin of the training set ($\\hat \\Gamma$) to be \n",
    "\n",
    "$$\\hat \\Gamma = \\mathrm{min}_{i=i,\\cdots,m} \\hat \\gamma^{(i)}$$\n",
    "\n",
    "Note in the lecture notes, they use $\\hat \\gamma$ to represent the functional margin of a training set, but I feel it rather confusing as $\\hat \\gamma{(i)}$ has already been used for the functional margin of individual data point, so I choose to use upper case $\\hat \\Gamma$, which feels less confusing. Similarly, the geometric margin of a training set would be $\\Gamma$ without the hat sign."
   ]
  },
  {
   "cell_type": "markdown",
   "metadata": {},
   "source": [
    "### SVM"
   ]
  },
  {
   "cell_type": "markdown",
   "metadata": {},
   "source": [
    "After some reasoning: the SVM becomes an optimization problem for the following optimal margin classifier:\n",
    "\n",
    "$$\n",
    "\\mathrm{min}_{\\gamma, w, b} \\frac{1}{2}\\left\\|w\\right\\|^2\n",
    "$$\n",
    "Subject to:\n",
    "$$y^{(i)}(w^Tx^{(i)} + b) \\ge 1, i = 1, 2, \\cdots, m$$\n",
    "\n",
    "Here we enforced the functional margin to be exactly one ($\\hat \\gamma = 1$) after after scaling $w$ and $b$. Meanwhile, we want to minimize $\\left\\|w\\right\\|$.\n",
    "\n",
    "**Important to think through**: this is equivalent to maximizing the geometric margin when enforcing $\\left\\|w\\right\\| = 1$, given which, $y^{(i)}(w^Tx^{(i)} + b)$ can be interpreted as exactly the distance to the decision boundary.\n",
    "\n",
    "Recall \n",
    "\n",
    "$$\\hat \\gamma^{(i)} = y^{(i)}(w^T x^{(i)} + b)$$\n",
    "\n",
    "It's just about either\n",
    "\n",
    "1. fix $f(w) = \\left\\|w\\right\\| = 1$ involved in the right hand, maximize the left hand (the original idea behind maximum margin)\n",
    "1. fix left hand (because scaling $w$ and $b$ won't affect decision boundry line), minimize $f(w) = \\left\\|w\\right\\|$ which is involved in the right hand\n",
    "\n",
    "The two approaches have the same effect as to which decision boundry will be selected after the optimization."
   ]
  },
  {
   "cell_type": "markdown",
   "metadata": {},
   "source": [
    "Applying Lagrange duality (non-trivial, esp. for the linearly unseparable cases), the optimization problem becomes\n",
    "\n",
    "$$\n",
    "\\mathrm{max}_{\\alpha} W(\\alpha) = \\sum_{i=1}^{m} \\alpha_i - \\frac{1}{2} \\sum_{i,j=1}^{m}y^{(i)}y^{(j)} \\alpha_i \\alpha_j x_i^T x_j\n",
    "$$\n",
    "Subject to:\n",
    "$$0 \\le \\alpha_i \\le C, i = 1, 2, \\cdots, m$$\n",
    "and\n",
    "$$\\sum_{i=1}^{m} \\alpha_i y^{(i)} = 0$$\n"
   ]
  },
  {
   "cell_type": "markdown",
   "metadata": {},
   "source": [
    "Sequential Minimal optimization (SMO) algorithm is a relatively recent way to solve the above optimization problem. There are other ways, too. See John Platt's paper: https://www.microsoft.com/en-us/research/wp-content/uploads/2016/02/smo-book.pdf. SMO is also implemented in [libsvm](https://en.wikipedia.org/wiki/LIBSVM)."
   ]
  },
  {
   "cell_type": "markdown",
   "metadata": {
    "collapsed": true
   },
   "source": [
    "# Implementation"
   ]
  },
  {
   "cell_type": "markdown",
   "metadata": {},
   "source": [
    "Follow http://cs229.stanford.edu/materials/smo.pdf"
   ]
  },
  {
   "cell_type": "markdown",
   "metadata": {},
   "source": [
    "e.g. while optimizaing $\\alpha_1, \\alpha_2$, fix the other $\\alpha$s,\n",
    "\n",
    "\\begin{align*} \n",
    "W(\\alpha) &= \\alpha_1 + \\alpha_2 + \\sum_{i=3}^{m} \\alpha_i + \\frac{1}{2} [\\\\\n",
    "          &y_1^2 \\alpha_1^2 x_1^T x_1 + \\\\\n",
    "          &y_2^2 \\alpha_2^2 x_2^T x_2 + \\\\\n",
    "          &y_1 y_2 \\alpha_1 \\alpha_2 x_1^T x_2 + \\\\\n",
    "          &y_2 y_1 \\alpha_2 \\alpha_1 x_2^T x_1 + \\\\\n",
    "          &\\sum_{j=3}^{m} y_1 y_j \\alpha_1 \\alpha_j x_1^T x_j + \\\\\n",
    "          &\\sum_{j=3}^{m} y_2 y_j \\alpha_2 \\alpha_j x_2^T x_j + \\\\\n",
    "          &\\sum_{i=3}^{m} y_i y_1 \\alpha_i \\alpha_1 x_i^T x_1 + \\\\\n",
    "          &\\sum_{i=3}^{m} y_i y_2 \\alpha_i \\alpha_2 x_i^T x_2 + \\\\\n",
    "          &\\sum_{i=3,j=3}^{m} y_i y_j \\alpha_i \\alpha_j x_i^T x_j \\\\\n",
    "]\n",
    "\\end{align*}"
   ]
  },
  {
   "cell_type": "code",
   "execution_count": 1,
   "metadata": {
    "collapsed": true
   },
   "outputs": [],
   "source": [
    "import numpy as np\n",
    "import matplotlib.pyplot as plt\n",
    "\n",
    "%matplotlib inline"
   ]
  },
  {
   "cell_type": "code",
   "execution_count": 2,
   "metadata": {
    "collapsed": true
   },
   "outputs": [],
   "source": [
    "# toy dataset\n",
    "Xs = np.array([\n",
    "        [0.5, 0.5],\n",
    "        [1, 1],\n",
    "        [1.5, 2],\n",
    "        [2, 1]\n",
    "    ])\n",
    "ys = [-1, -1, 1, 1]"
   ]
  },
  {
   "cell_type": "code",
   "execution_count": 3,
   "metadata": {
    "collapsed": false
   },
   "outputs": [
    {
     "data": {
      "text/plain": [
       "<matplotlib.collections.PathCollection at 0x10fdb7438>"
      ]
     },
     "execution_count": 3,
     "metadata": {},
     "output_type": "execute_result"
    },
    {
     "data": {
      "image/png": "[encoded data removed]",
      "text/plain": [
       "<matplotlib.figure.Figure at 0x10c52b710>"
      ]
     },
     "metadata": {},
     "output_type": "display_data"
    }
   ],
   "source": [
    "plt.scatter(*Xs[:2].T, marker='x', s=50)\n",
    "plt.scatter(*Xs[2:].T, marker='o', s=50)"
   ]
  },
  {
   "cell_type": "code",
   "execution_count": 4,
   "metadata": {
    "collapsed": true
   },
   "outputs": [],
   "source": [
    "def calc_f(xk, alphas, Xs, ys, b):\n",
    "    return sum(alpha * yi * xi.dot(xk) for (alpha, xi, yi) in zip(alphas, Xs, ys)) + b"
   ]
  },
  {
   "cell_type": "code",
   "execution_count": 5,
   "metadata": {
    "collapsed": true
   },
   "outputs": [],
   "source": [
    "def calc_E(xk, yk, alphas, Xs, ys, b):\n",
    "    return calc_f(xk, alphas, Xs, ys, b) - yk"
   ]
  },
  {
   "cell_type": "code",
   "execution_count": 6,
   "metadata": {
    "collapsed": true
   },
   "outputs": [],
   "source": [
    "def calc_L(yi, yj, ai, aj, C):\n",
    "    if yi != yj:\n",
    "        return max(0, aj - ai)\n",
    "    elif yi == yj:\n",
    "        return max(0, ai + aj - C)\n",
    "    else:\n",
    "        raise\n",
    "        \n",
    "def calc_H(ai, aj, yi, yj, C):\n",
    "    if yi != yj:\n",
    "        return min(C, aj - ai + C)\n",
    "    elif yi == yj:\n",
    "        return min(C, ai + aj)\n",
    "    else:\n",
    "        raise"
   ]
  },
  {
   "cell_type": "code",
   "execution_count": 7,
   "metadata": {
    "collapsed": true
   },
   "outputs": [],
   "source": [
    "def update_aj(aj, yj, Ei, Ej, eta, H, L):\n",
    "    \"\"\"Eq. 12 and 15\"\"\"\n",
    "    aj = aj - yj * (Ei - Ej) / eta\n",
    "    if aj > H:\n",
    "        return H\n",
    "    elif aj < L:\n",
    "        return L\n",
    "    else:\n",
    "        return aj\n",
    "\n",
    "def update_ai(ai, yi, yj, aj_old, aj):\n",
    "    \"\"\"Eq. 16\"\"\"\n",
    "    return ai + yi * yj * (aj_old - aj)"
   ]
  },
  {
   "cell_type": "code",
   "execution_count": 8,
   "metadata": {
    "collapsed": true
   },
   "outputs": [],
   "source": [
    "def calc_b(b1, b2, ai, aj, C):\n",
    "    if 0 < ai < C:\n",
    "        return b1\n",
    "    elif 0 < aj < C:\n",
    "        return b2\n",
    "    else:\n",
    "        return (b1 + b2) / 2"
   ]
  },
  {
   "cell_type": "code",
   "execution_count": 9,
   "metadata": {
    "collapsed": true
   },
   "outputs": [],
   "source": [
    "# the toy example is linearly separable, so C could be arbitrarily large\n",
    "C = 1e8\n",
    "tol = 0.001\n",
    "max_passes = 10000\n",
    "\n",
    "m = Xs.shape[0]\n",
    "alphas = np.zeros(m)\n",
    "b = 0"
   ]
  },
  {
   "cell_type": "code",
   "execution_count": 10,
   "metadata": {
    "collapsed": false
   },
   "outputs": [],
   "source": [
    "passes = 0\n",
    "while passes < max_passes:\n",
    "#     print(passes, end=',')\n",
    "    num_changed_alphas = 0\n",
    "    for i in range(m):\n",
    "        ai = alphas[i]\n",
    "        xi = Xs[i]\n",
    "        yi = ys[i]\n",
    "        Ei = calc_E(xi, yi, alphas, Xs, ys, b)\n",
    "        if (yi * Ei < -tol and ai < C) or (yi * Ei > tol and ai > 0):\n",
    "            j = np.random.choice([_ for _ in range(m) if _ != i])\n",
    "            aj = alphas[j]\n",
    "            xj = Xs[j]\n",
    "            yj = ys[j]\n",
    "            Ej = calc_E(xj, yj, alphas, Xs, ys, b)\n",
    "            \n",
    "            ai_old = ai\n",
    "            aj_old = aj\n",
    "            \n",
    "            L = calc_L(ai, aj, yi, yj, C)\n",
    "            H = calc_H(ai, aj, yi, yj, C)\n",
    "            if L == H:\n",
    "                continue\n",
    "                \n",
    "            eta = 2 * xi.dot(xj) - xi.dot(xi) - xj.dot(xj)\n",
    "            if eta >= 0:\n",
    "                continue\n",
    "                \n",
    "            aj = update_aj(aj, yj, Ei, Ej, eta, H, L)\n",
    "            alphas[j] = aj\n",
    "            if np.abs(aj - aj_old) < 1e-5:\n",
    "                continue\n",
    "            \n",
    "            ai = update_ai(ai, yi, yj, aj_old, aj)\n",
    "            alphas[i] = ai\n",
    "            \n",
    "            # Eq. 17\n",
    "            b1 = b - Ei - yi * (ai - ai_old) * xi.dot(xi) - yj * (aj - aj_old) * xi.dot(xj)\n",
    "            # Eq. 18\n",
    "            b2 = b - Ej - yi * (ai - ai_old) * xi.dot(xj) - yj * (aj - aj_old) * xj.dot(xj)\n",
    "            b = calc_b(b1, b2, ai, aj, C)\n",
    "            num_changed_alphas += 1\n",
    "    if num_changed_alphas == 0:\n",
    "        passes += 1\n",
    "    else:\n",
    "        passes = 0\n",
    "#     print(num_changed_alphas, passes, end=',')"
   ]
  },
  {
   "cell_type": "code",
   "execution_count": 11,
   "metadata": {
    "collapsed": false,
    "scrolled": false
   },
   "outputs": [
    {
     "data": {
      "text/plain": [
       "array([ 0.        ,  2.49930576,  1.00046283,  1.49884293])"
      ]
     },
     "execution_count": 11,
     "metadata": {},
     "output_type": "execute_result"
    }
   ],
   "source": [
    "alphas"
   ]
  },
  {
   "cell_type": "code",
   "execution_count": 12,
   "metadata": {
    "collapsed": false
   },
   "outputs": [
    {
     "data": {
      "text/plain": [
       "-3.9995371724799988"
      ]
     },
     "execution_count": 12,
     "metadata": {},
     "output_type": "execute_result"
    }
   ],
   "source": [
    "b"
   ]
  },
  {
   "cell_type": "code",
   "execution_count": 13,
   "metadata": {
    "collapsed": false
   },
   "outputs": [],
   "source": [
    "# np.array([alphas[i] * ys[i] * Xs[i] for i in range(m)]).sum(axis=0)\n",
    "# most alphas should be 0\n",
    "ws = sum([alphas[i] * ys[i] * Xs[i] for i in range(m)])"
   ]
  },
  {
   "cell_type": "code",
   "execution_count": 14,
   "metadata": {
    "collapsed": false
   },
   "outputs": [
    {
     "data": {
      "text/plain": [
       "1.0"
      ]
     },
     "execution_count": 14,
     "metadata": {},
     "output_type": "execute_result"
    }
   ],
   "source": [
    "norm_ws = ws / np.sqrt(ws.dot(ws))\n",
    "(norm_ws**2).sum()"
   ]
  },
  {
   "cell_type": "code",
   "execution_count": 15,
   "metadata": {
    "collapsed": false
   },
   "outputs": [],
   "source": [
    "margin = np.min(np.abs(Xs.dot(ws) + b) / np.sqrt(ws.dot(ws)))"
   ]
  },
  {
   "cell_type": "code",
   "execution_count": 17,
   "metadata": {
    "collapsed": false
   },
   "outputs": [
    {
     "data": {
      "text/plain": [
       "(0, 2.2)"
      ]
     },
     "execution_count": 17,
     "metadata": {},
     "output_type": "execute_result"
    },
    {
     "data": {
      "image/png": "[encoded data removed]",
      "text/plain": [
       "<matplotlib.figure.Figure at 0x10ff09518>"
      ]
     },
     "metadata": {},
     "output_type": "display_data"
    }
   ],
   "source": [
    "_x1s = np.array([0, 3])\n",
    "_x2s = (-b - ws[0] * _x1s) / ws[1]\n",
    "_xs = np.array([_x1s, _x2s]).T\n",
    "assert (_xs[1] - _xs[0]).dot(ws) < 1e-12\n",
    "\n",
    "# decision boundary\n",
    "plt.plot(*_xs.T, lw=1, color='black')\n",
    "# margin\n",
    "plt.plot(*(_xs - norm_ws * margin).T, color='black', lw=1, linestyle='--')\n",
    "plt.plot(*(_xs + norm_ws * margin).T, color='black', lw=1, linestyle='--')\n",
    "\n",
    "plt.scatter(*Xs[:2].T, marker='x', s=50)\n",
    "plt.scatter(*Xs[2:].T, marker='o', s=50)\n",
    "\n",
    "plt.xlim(0.4, 2.1)\n",
    "plt.ylim(0, 2.2)"
   ]
  },
  {
   "cell_type": "markdown",
   "metadata": {},
   "source": [
    "When I first see this margin, it looks so beautiful, and feels so good it works! 🍺"
   ]
  },
  {
   "cell_type": "code",
   "execution_count": null,
   "metadata": {
    "collapsed": true
   },
   "outputs": [],
   "source": []
  }
 ],
 "metadata": {
  "anaconda-cloud": {},
  "kernelspec": {
   "display_name": "Python [default]",
   "language": "python",
   "name": "python3"
  },
  "language_info": {
   "codemirror_mode": {
    "name": "ipython",
    "version": 3
   },
   "file_extension": ".py",
   "mimetype": "text/x-python",
   "name": "python",
   "nbconvert_exporter": "python",
   "pygments_lexer": "ipython3",
   "version": "3.5.3"
  }
 },
 "nbformat": 4,
 "nbformat_minor": 0
}
