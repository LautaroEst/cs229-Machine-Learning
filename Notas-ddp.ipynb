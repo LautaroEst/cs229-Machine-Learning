{
 "cells": [
  {
   "cell_type": "code",
   "execution_count": 1,
   "metadata": {},
   "outputs": [],
   "source": [
    "import numpy as np\n",
    "\n",
    "%matplotlib notebook\n",
    "from matplotlib import pyplot as plt"
   ]
  },
  {
   "cell_type": "markdown",
   "metadata": {},
   "source": [
    "# Distribuciones Bernoulli, binomial, multinomial y otros\n",
    "\n",
    "## Distribución Bernoulli\n",
    "\n",
    "La distribución Bernoulli representa la probabilidad de éxito de un evento que puede solamente ser exitoso o bien fracasar.\n",
    "\n",
    "Una variable aleatoria $X$ que cumple con las siguientes condiciones:\n",
    "\n",
    "* $X$ tiene realizaciones en el conjunto $\\{0,1\\}$ \n",
    "\n",
    "* La probabilidad del evento $x_i$ es $P(x_i) = p^{x_i} (1-p)^{1-x_i}$, con $x_i\\in \\{0,1\\}$ y $0\\leq p \\leq 1$\n",
    "\n",
    "es una variable aleatoria tipo Bernoulli de parámetro $p$.\n",
    "\n",
    "## Proceso Bernoulli\n",
    "\n",
    "Una suceción de variables aleatorias (o proceso estocástico o señal aleatoria discreta o como quiera llamarse) $P = \\left( X_1, \\ldots, X_n \\right)$ que cumpla con $X_i \\sim Ber(p)\\; \\forall i=1,\\ldots, n$ es un proceso Bernoulli.\n",
    "\n",
    "Este proceso representa una sucesión de eventos que pueden dar un éxito (con probabilidad $p$) o bien un fracaso (con probabilidad $1-p$)."
   ]
  },
  {
   "cell_type": "code",
   "execution_count": 27,
   "metadata": {},
   "outputs": [],
   "source": [
    "def randBer(p,shape=(1,)):\n",
    "    \"\"\"\n",
    "        Devuelve una realización de un proceso Bernoulli, es \n",
    "        decir, devuelve un array de tamaño shape con realizaciones\n",
    "        de variables Bernoulli de probabilidad p.\n",
    "    \"\"\"\n",
    "    pass"
   ]
  },
  {
   "cell_type": "markdown",
   "metadata": {},
   "source": [
    "## Distribución binomial\n",
    "\n",
    "La distribución binomial representa la cantidad de éxitos en un proceso Bernoulli de largo $n$. Como las variables aleatorias Bernoulli tienen realizaciones en $\\{ 0,1 \\}$, la suma de todas las Bernoulli del proceso me da la cantidad de éxitos. \n",
    "\n",
    "Por lo tanto, definimos a una variable aleatoria Binomial de parámetros $p$ y $n$ como una variable $S$ que cumple con las siguientes condiciones:\n",
    "\n",
    "* $S$ tiene realizaciones en el conjunto $\\{ 0, \\ldots, n \\}$\n",
    "\n",
    "* $S$ se distribuye a partir de la función $P(k) = {n \\choose k} p^{k} (1-p)^{n-k}$, con $k \\in \\{ 0, \\ldots, n \\}$\n",
    "\n",
    "\n",
    "El segundo punto implica que $S = \\sum_{i=1}^{n} X_i$ donde $P = (X_1, \\ldots, X_n)$ es un proceso Bernoulli (y es condición necesaria y suficiente para que se cumpla el segundo punto también)."
   ]
  },
  {
   "cell_type": "code",
   "execution_count": null,
   "metadata": {},
   "outputs": [],
   "source": [
    "def randBinomial(n,p,shape=(1,)):\n",
    "    \"\"\"\n",
    "        Devuelve un array con realizaciones de una binomial.\n",
    "    \"\"\"\n",
    "    pass"
   ]
  },
  {
   "cell_type": "markdown",
   "metadata": {},
   "source": [
    "## Distribución multinomial\n",
    "\n",
    "La distribución multinomial es la generalización de la binomial, en el sentido de que ahora no tengo sólo éxito o fracaso, sino que tengo realizaciones en un conjunto $\\{ 0, \\ldots, r-1 \\}$."
   ]
  },
  {
   "cell_type": "markdown",
   "metadata": {},
   "source": [
    "## Distribución geométrica\n",
    "\n",
    "La distribución geométrica representa el tiempo que hay que esperar hasta el primer éxito de un proceso Bernoulli. Para decir esto, es necesario tomar un proceso de tamaño infinito. "
   ]
  }
 ],
 "metadata": {
  "kernelspec": {
   "display_name": "Python 3",
   "language": "python",
   "name": "python3"
  },
  "language_info": {
   "codemirror_mode": {
    "name": "ipython",
    "version": 3
   },
   "file_extension": ".py",
   "mimetype": "text/x-python",
   "name": "python",
   "nbconvert_exporter": "python",
   "pygments_lexer": "ipython3",
   "version": "3.7.3"
  }
 },
 "nbformat": 4,
 "nbformat_minor": 2
}
