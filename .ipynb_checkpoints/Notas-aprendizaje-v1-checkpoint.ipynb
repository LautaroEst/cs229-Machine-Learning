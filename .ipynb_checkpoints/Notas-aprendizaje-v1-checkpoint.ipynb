{
 "cells": [
  {
   "cell_type": "markdown",
   "metadata": {},
   "source": [
    "# Notas de Teoría de Aprendizaje del curso cs229\n",
    "\n",
    "Estas notas incluyen comentarios de la parte de Teoría de Aprendizaje. Esto está en las notas 4, 5 y 6 del curso. \n",
    "\n",
    "No sé si hay tanto para implementar de este apunte, probablemente sea más teoría que otra cosa. "
   ]
  }
 ],
 "metadata": {
  "kernelspec": {
   "display_name": "Python 3",
   "language": "python",
   "name": "python3"
  },
  "language_info": {
   "codemirror_mode": {
    "name": "ipython",
    "version": 3
   },
   "file_extension": ".py",
   "mimetype": "text/x-python",
   "name": "python",
   "nbconvert_exporter": "python",
   "pygments_lexer": "ipython3",
   "version": "3.7.3"
  }
 },
 "nbformat": 4,
 "nbformat_minor": 2
}
