{
 "cells": [
  {
   "cell_type": "markdown",
   "metadata": {},
   "source": [
    "# Notas de Teoría de Aprendizaje del curso cs229\n",
    "\n",
    "Estas notas incluyen comentarios de la parte de Teoría de Aprendizaje. Esto está en las notas 4, 5 y 6 del curso. \n",
    "\n",
    "No sé si hay tanto para implementar de este apunte, probablemente sea más teoría que otra cosa. "
   ]
  },
  {
   "cell_type": "markdown",
   "metadata": {},
   "source": [
    "## Familia de parámetros\n",
    "\n",
    "Es el conjunto de funciones que incluyen a la que quiero encontrar para mi modelo\n",
    "\n",
    "## Riesgo empírico\n",
    "\n",
    "Yo tengo mis datos y lo que quiero es el modelo que minimiza el riesgo con respecto a mis datos. Para eso tengo que minimizar con respecto a mis datos, no a la variable aleatoria de la cual se supone que vienen los datos.\n",
    "\n",
    "$$\n",
    "\\begin{align}\n",
    "\\hat{h} &= \\mathrm{argmin}_{\\theta} \\frac{1}{m} \\sum_{i=1}^m err(h_{\\theta}(x^{(i)}),y^{i})\\\\\n",
    "\\end{aling}\n",
    "$$\n",
    "\n",
    "donde $err$ es una forma de medir el error entre la predicción y el valor que salió. \n",
    "\n",
    "**Hasta ahora, estoy definiendo el error sólo sobre el conjunto de muestras.**\n",
    "\n",
    "\n",
    "## Cuantificación de la capacidad para generalizar\n",
    "\n",
    "También queremos representar de alguna manera la capacidad para generalizar del modelo encontrado $\\hat{h}$. Para eso, definimos\n",
    "\n",
    "$$\n",
    "err(h) = P_{(x,y)}(h(x)\\neq y)\n",
    "$$\n",
    "\n",
    "## ¿Qué hacemos con todo esto?\n",
    "\n",
    "Por ahora, definimos que si encontramos un modelo $\\hat{h}$ entonces podemos calcular su error empírico sobre el conjunto de las muestras de entrenamiento. Ahora, para definir \"generalización\", dijimos que ese modelo encontrado me va a dar un valor de la probabilidad de que se predigan bien las nuevas muestras. Ahora, lo que quiero es \n",
    "\n",
    "\n",
    "\n",
    "\n",
    "\n",
    "## Resumen\n",
    "\n",
    "El objetivo es encontrar un modelo $\\hat{h}$ que sirva para predecir. Para eso va a haber que definir varias cosas. \n",
    "\n",
    "1. Vamos a elegir un modelo dentro de una \"familia de modelos\" $\\mathcal{H} = \\{ h_1, \\ldots, h_K \\}$\n",
    "2. Para cada modelo $h \\in \\mathcal{H}$ vamos a poder calcular el **error empírico** con el set de datos que disponemos:\n",
    "$$\n",
    "Error\\;empírico\\;del\\;modelo\\;h= \\hat{\\epsilon}_S(h) = \\frac{1}{m} \\sum_{i=1}^m err(h(x^{(i)}),y^{i})\n",
    "$$\n",
    "donde $err$ es el criterio de error considerado (cuadrático medio, por ejemplo).\n",
    "3. El modelo $\\hat{h}$ que vamos a elegir dentro de esta familia va a ser el que minimice el error empírico, es decir:\n",
    "$$\n",
    "\\hat{h} = \\mathrm{argmin}_{\\mathcal{H}} \\hat{\\epsilon}_S(h) = \\mathrm{argmin}_{\\mathcal{H}} \\frac{1}{m} \\sum_{i=1}^m err(h(x^{(i)}),y^{i})\\\\\n",
    "$$\n",
    "4. Una vez encontrado el modelo, podemos definir el error de generalización, que captura la idea de cuánto nos permite predecir el modelo $\\hat{h}$ encontrado:\n",
    "$$\n",
    "\\epsilon(\\hat{h}) = P_{(x,y)}(\\hat{h}(x)\\neq y)\n",
    "$$\n"
   ]
  }
 ],
 "metadata": {
  "kernelspec": {
   "display_name": "Python 3",
   "language": "python",
   "name": "python3"
  },
  "language_info": {
   "codemirror_mode": {
    "name": "ipython",
    "version": 3
   },
   "file_extension": ".py",
   "mimetype": "text/x-python",
   "name": "python",
   "nbconvert_exporter": "python",
   "pygments_lexer": "ipython3",
   "version": "3.7.3"
  }
 },
 "nbformat": 4,
 "nbformat_minor": 2
}
